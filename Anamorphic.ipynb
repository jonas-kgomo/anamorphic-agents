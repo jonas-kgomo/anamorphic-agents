{
  "nbformat": 4,
  "nbformat_minor": 0,
  "metadata": {
    "colab": {
      "provenance": [],
      "authorship_tag": "ABX9TyP4cHoieqFjuq1vsoThkjR1",
      "include_colab_link": true
    },
    "kernelspec": {
      "name": "python3",
      "display_name": "Python 3"
    },
    "language_info": {
      "name": "python"
    }
  },
  "cells": [
    {
      "cell_type": "markdown",
      "metadata": {
        "id": "view-in-github",
        "colab_type": "text"
      },
      "source": [
        "<a href=\"https://colab.research.google.com/github/jonas-kgomo/anamorphic-agents/blob/main/Anamorphic.ipynb\" target=\"_parent\"><img src=\"https://colab.research.google.com/assets/colab-badge.svg\" alt=\"Open In Colab\"/></a>"
      ]
    },
    {
      "cell_type": "code",
      "execution_count": 6,
      "metadata": {
        "colab": {
          "base_uri": "https://localhost:8080/",
          "height": 795
        },
        "id": "ZRyblCm2qO8G",
        "outputId": "01cd7bcd-51d5-456e-f112-3f503e91edc8"
      },
      "outputs": [
        {
          "output_type": "display_data",
          "data": {
            "text/plain": [
              "<Figure size 640x480 with 1 Axes>"
            ],
            "image/png": "[encoded data removed]"
          },
          "metadata": {}
        },
        {
          "output_type": "display_data",
          "data": {
            "text/plain": [
              "<Figure size 640x480 with 1 Axes>"
            ],
            "image/png": "[encoded data removed]"
          },
          "metadata": {}
        }
      ],
      "source": [
        "import numpy as np\n",
        "import matplotlib.pyplot as plt\n",
        "\n",
        "# Define the initial maze configuration\n",
        "maze = np.array([\n",
        "    [1, 1, 1, 1, 1, 1, 1],\n",
        "    [1, 0, 0, 0, 0, 0, 1],\n",
        "    [1, 0, 1, 1, 1, 0, 1],\n",
        "    [1, 0, 0, 0, 1, 0, 1],\n",
        "    [1, 0, 1, 0, 0, 0, 1],\n",
        "    [1, 0, 1, 1, 1, 0, 1],\n",
        "    [1, 1, 1, 1, 1, 1, 1]\n",
        "])\n",
        "\n",
        "def deform_maze(maze):\n",
        "    # Perform some deformation on the maze\n",
        "    # For simplicity, we'll just swap the positions of two walls\n",
        "\n",
        "    # Swap the positions of the walls in the maze\n",
        "    temp = np.copy(maze[2, 6])\n",
        "    maze[2, 3] = maze[4, 5]\n",
        "    maze[1, 2] = maze[4, 5]\n",
        "    maze[4, 5] = temp\n",
        "\n",
        "    return maze\n",
        "\n",
        "# Function to plot the maze\n",
        "def plot_maze(maze):\n",
        "    plt.imshow(maze, cmap='gray')\n",
        "    plt.axis('off')\n",
        "    plt.show()\n",
        "\n",
        "# Plot the initial maze\n",
        "plot_maze(maze)\n",
        "\n",
        "# Deform the maze\n",
        "deformed_maze = deform_maze(maze)\n",
        "\n",
        "# Plot the deformed maze\n",
        "plot_maze(deformed_maze)\n"
      ]
    },
    {
      "cell_type": "code",
      "source": [
        "import numpy as np\n",
        "import matplotlib.pyplot as plt\n",
        "\n",
        "# Define the initial maze configuration\n",
        "maze = np.array([\n",
        "    [1, 1, 1, 1, 1, 1, 1, 1, 1, 1],\n",
        "    [1, 0, 0, 0, 0, 0, 0, 0, 0, 1],\n",
        "    [1, 0, 1, 1, 1, 1, 1, 1, 0, 1],\n",
        "    [1, 0, 1, 0, 0, 0, 0, 1, 0, 1],\n",
        "    [1, 0, 1, 0, 1, 1, 0, 1, 0, 1],\n",
        "    [1, 0, 1, 0, 1, 0, 0, 1, 0, 1],\n",
        "    [1, 0, 1, 0, 1, 1, 1, 1, 0, 1],\n",
        "    [1, 0, 0, 0, 0, 0, 0, 0, 0, 1],\n",
        "    [1, 1, 1, 1, 1, 1, 1, 1, 1, 1]\n",
        "])\n",
        "\n",
        "# Function to deform the maze\n",
        "def deform_maze(maze, deformation):\n",
        "    # Apply the given deformation operation to the maze\n",
        "\n",
        "    if deformation == 'swap_walls':\n",
        "        # Swap the positions of two walls in the maze\n",
        "        temp = np.copy(maze[2, 2])\n",
        "        maze[2, 2] = maze[4, 4]\n",
        "        maze[4, 4] = temp\n",
        "    elif deformation == 'add_wall':\n",
        "        # Add a wall in the center of the maze\n",
        "        maze[4:6, 4:6] = 1\n",
        "    elif deformation == 'remove_wall':\n",
        "        # Remove a wall from the maze\n",
        "        maze[4:6, 4:6] = 0\n",
        "\n",
        "    return maze\n",
        "\n",
        "# Function to plot the maze\n",
        "def plot_maze(maze):\n",
        "    plt.imshow(maze, cmap='gray')\n",
        "    plt.axis('off')\n",
        "    plt.show()\n",
        "\n",
        "# List of possible deformation operations\n",
        "deformations = ['swap_walls', 'add_wall', 'remove_wall']\n",
        "\n",
        "# Plot the initial maze\n",
        "plot_maze(maze)\n",
        "\n",
        "# Plot all possible deformations\n",
        "for deformation in deformations:\n",
        "    # Create a copy of the original maze\n",
        "    deformed_maze = np.copy(maze)\n",
        "\n",
        "    # Deform the maze\n",
        "    deformed_maze = deform_maze(deformed_maze, deformation)\n",
        "\n",
        "    # Plot the deformed maze\n",
        "    plot_maze(deformed_maze)\n"
      ],
      "metadata": {
        "colab": {
          "base_uri": "https://localhost:8080/",
          "height": 1000
        },
        "id": "XHtjw3FSrICO",
        "outputId": "3e521945-f77e-4b7b-d61f-4769e3970cf5"
      },
      "execution_count": 8,
      "outputs": [
        {
          "output_type": "display_data",
          "data": {
            "text/plain": [
              "<Figure size 640x480 with 1 Axes>"
            ],
            "image/png": "[encoded data removed]"
          },
          "metadata": {}
        },
        {
          "output_type": "display_data",
          "data": {
            "text/plain": [
              "<Figure size 640x480 with 1 Axes>"
            ],
            "image/png": "[encoded data removed]"
          },
          "metadata": {}
        },
        {
          "output_type": "display_data",
          "data": {
            "text/plain": [
              "<Figure size 640x480 with 1 Axes>"
            ],
            "image/png": "[encoded data removed]"
          },
          "metadata": {}
        },
        {
          "output_type": "display_data",
          "data": {
            "text/plain": [
              "<Figure size 640x480 with 1 Axes>"
            ],
            "image/png": "[encoded data removed]"
          },
          "metadata": {}
        }
      ]
    },
    {
      "cell_type": "markdown",
      "source": [
        "A Maze undergoing"
      ],
      "metadata": {
        "id": "cojHp5kyqXyX"
      }
    },
    {
      "cell_type": "code",
      "source": [
        "# State Space Deformation\n",
        "def deform_state_space(state):\n",
        "    # Apply deformation to the state space\n",
        "    # Example: Modify the coordinates of the state\n",
        "    deformed_state = (state[0] + 1, state[1] - 1)\n",
        "    return deformed_state\n",
        "\n",
        "# Action Space Deformation\n",
        "def deform_action_space(action):\n",
        "    # Apply deformation to the action space\n",
        "    # Example: Add a new action\n",
        "    deformed_action = action + 'Z'\n",
        "    return deformed_action\n",
        "\n",
        "# Reward Deformation\n",
        "def deform_reward(reward):\n",
        "    # Apply deformation to the reward\n",
        "    # Example: Scale the reward by a factor\n",
        "    deformed_reward = reward * 2\n",
        "    return deformed_reward\n",
        "\n",
        "# Transition Dynamics Deformation\n",
        "def deform_transition_dynamics(transitions):\n",
        "    # Apply deformation to the transition dynamics\n",
        "    # Example: Modify the transition probabilities\n",
        "    deformed_transitions = {}\n",
        "    for state in transitions:\n",
        "        deformed_transitions[state] = {}\n",
        "        for action in transitions[state]:\n",
        "            # Add a constant probability to each transition\n",
        "            deformed_transitions[state][action] = transitions[state][action] + 0.1\n",
        "    return deformed_transitions\n",
        "\n",
        "# Task Deformation\n",
        "def deform_task(task):\n",
        "    # Apply deformation to the task\n",
        "    # Example: Change the goal state\n",
        "    deformed_task = {'start_state': task['start_state'], 'goal_state': (10, 10)}\n",
        "    return deformed_task\n",
        "\n",
        "# Example usage\n",
        "state = (5, 5)\n",
        "action = 'Up'\n",
        "reward = 10\n",
        "transitions = {\n",
        "    (5, 5): {'Up': 0.8, 'Right': 0.2},\n",
        "    (5, 6): {'Up': 0.2, 'Right': 0.8},\n",
        "    (6, 5): {'Up': 0.5, 'Right': 0.5}\n",
        "}\n",
        "task = {'start_state': (5, 5), 'goal_state': (8, 8)}\n",
        "\n",
        "# Deformations\n",
        "deformed_state = deform_state_space(state)\n",
        "deformed_action = deform_action_space(action)\n",
        "deformed_reward = deform_reward(reward)\n",
        "deformed_transitions = deform_transition_dynamics(transitions)\n",
        "deformed_task = deform_task(task)\n",
        "\n",
        "# Print the deformed values\n",
        "print(\"State Space Deformation: \", deformed_state)\n",
        "print(\"Action Space Deformation: \", deformed_action)\n",
        "print(\"Reward Deformation: \", deformed_reward)\n",
        "print(\"Transition Dynamics Deformation: \", deformed_transitions)\n",
        "print(\"Task Deformation: \", deformed_task)\n"
      ],
      "metadata": {
        "colab": {
          "base_uri": "https://localhost:8080/"
        },
        "id": "hyzrUSc_s4Mi",
        "outputId": "d2a46189-aeeb-422a-c5d8-cd6320e574ed"
      },
      "execution_count": 9,
      "outputs": [
        {
          "output_type": "stream",
          "name": "stdout",
          "text": [
            "State Space Deformation:  (6, 4)\n",
            "Action Space Deformation:  UpZ\n",
            "Reward Deformation:  20\n",
            "Transition Dynamics Deformation:  {(5, 5): {'Up': 0.9, 'Right': 0.30000000000000004}, (5, 6): {'Up': 0.30000000000000004, 'Right': 0.9}, (6, 5): {'Up': 0.6, 'Right': 0.6}}\n",
            "Task Deformation:  {'start_state': (5, 5), 'goal_state': (10, 10)}\n"
          ]
        }
      ]
    },
    {
      "cell_type": "code",
      "source": [
        "import numpy as np\n",
        "import matplotlib.pyplot as plt\n",
        "\n",
        "# State Space Deformation\n",
        "def deform_state_space(state):\n",
        "    # Apply deformation to the state space\n",
        "    # Example: Modify the coordinates of the state\n",
        "    deformed_state = (state[0] + 1, state[1] - 1)\n",
        "    return deformed_state\n",
        "\n",
        "# Action Space Deformation\n",
        "def deform_action_space(action):\n",
        "    # Apply deformation to the action space\n",
        "    # Example: Add a new action\n",
        "    deformed_action = action + 'Z'\n",
        "    return deformed_action\n",
        "\n",
        "# Reward Deformation\n",
        "def deform_reward(reward):\n",
        "    # Apply deformation to the reward\n",
        "    # Example: Scale the reward by a factor\n",
        "    deformed_reward = reward * 2\n",
        "    return deformed_reward\n",
        "\n",
        "# Transition Dynamics Deformation\n",
        "def deform_transition_dynamics(transitions):\n",
        "    # Apply deformation to the transition dynamics\n",
        "    # Example: Modify the transition probabilities\n",
        "    deformed_transitions = {}\n",
        "    for state in transitions:\n",
        "        deformed_transitions[state] = {}\n",
        "        for action in transitions[state]:\n",
        "            # Add a constant probability to each transition\n",
        "            deformed_transitions[state][action] = transitions[state][action] + 0.1\n",
        "    return deformed_transitions\n",
        "\n",
        "# Task Deformation\n",
        "def deform_task(task):\n",
        "    # Apply deformation to the task\n",
        "    # Example: Change the goal state\n",
        "    deformed_task = {'start_state': task['start_state'], 'goal_state': (10, 10)}\n",
        "    return deformed_task\n",
        "\n",
        "# Function to plot the maze\n",
        "def plot_maze(maze):\n",
        "    plt.imshow(maze, cmap='gray')\n",
        "    plt.axis('off')\n",
        "    plt.show()\n",
        "\n",
        "# Initial maze configuration\n",
        "maze = np.zeros((10, 10))\n",
        "\n",
        "# Define the starting and goal states\n",
        "start_state = (5, 5)\n",
        "goal_state = (8, 8)\n",
        "\n",
        "# Plot the initial maze\n",
        "plot_maze(maze)\n",
        "\n",
        "# State Space Deformation\n",
        "deformed_start_state = deform_state_space(start_state)\n",
        "deformed_goal_state = deform_state_space(goal_state)\n",
        "\n",
        "deformed_maze = np.copy(maze)\n",
        "deformed_maze[deformed_start_state] = 1\n",
        "deformed_maze[deformed_goal_state] = 2\n",
        "\n",
        "# Plot the deformed maze with state space deformation\n",
        "plot_maze(deformed_maze)\n",
        "\n",
        "# Action Space Deformation\n",
        "deformed_action = deform_action_space('Up')\n",
        "\n",
        "print(\"Deformed Action: \", deformed_action)\n",
        "\n",
        "# Reward Deformation\n",
        "deformed_reward = deform_reward(10)\n",
        "\n",
        "print(\"Deformed Reward: \", deformed_reward)\n",
        "\n",
        "# Transition Dynamics Deformation\n",
        "transitions = {\n",
        "    (5, 5): {'Up': 0.8, 'Right': 0.2},\n",
        "    (5, 6): {'Up': 0.2, 'Right': 0.8},\n",
        "    (6, 5): {'Up': 0.5, 'Right': 0.5}\n",
        "}\n",
        "\n",
        "deformed_transitions = deform_transition_dynamics(transitions)\n",
        "\n",
        "print(\"State Space Deformation: \", deformed_state)\n",
        "print(\"Deformed Transitions: \", deformed_transitions)\n",
        "\n",
        "# Task Deformation\n",
        "task = {'start_state': (5, 5), 'goal_state': (8, 8)}\n",
        "\n",
        "deformed_task = deform_task(task)\n",
        "\n",
        "print(\"Deformed Task: \", deformed_task)\n"
      ],
      "metadata": {
        "colab": {
          "base_uri": "https://localhost:8080/",
          "height": 884
        },
        "id": "21XfLGKntqHo",
        "outputId": "2bf1d961-f46e-49a0-a386-9b0fd1e45ae1"
      },
      "execution_count": 11,
      "outputs": [
        {
          "output_type": "display_data",
          "data": {
            "text/plain": [
              "<Figure size 640x480 with 1 Axes>"
            ],
            "image/png": "[encoded data removed]"
          },
          "metadata": {}
        },
        {
          "output_type": "display_data",
          "data": {
            "text/plain": [
              "<Figure size 640x480 with 1 Axes>"
            ],
            "image/png": "[encoded data removed]"
          },
          "metadata": {}
        },
        {
          "output_type": "stream",
          "name": "stdout",
          "text": [
            "Deformed Action:  UpZ\n",
            "Deformed Reward:  20\n",
            "State Space Deformation:  (6, 4)\n",
            "Deformed Transitions:  {(5, 5): {'Up': 0.9, 'Right': 0.30000000000000004}, (5, 6): {'Up': 0.30000000000000004, 'Right': 0.9}, (6, 5): {'Up': 0.6, 'Right': 0.6}}\n",
            "Deformed Task:  {'start_state': (5, 5), 'goal_state': (10, 10)}\n"
          ]
        }
      ]
    },
    {
      "cell_type": "code",
      "source": [
        "import numpy as np\n",
        "import matplotlib.pyplot as plt\n",
        "\n",
        "# State Space Deformation\n",
        "def deform_state_space(state):\n",
        "    # Apply deformation to the state space\n",
        "    # Example: Modify the coordinates of the state\n",
        "    deformed_state = (state[0] + 1, state[1] - 1)\n",
        "    return deformed_state\n",
        "\n",
        "# Function to plot the maze\n",
        "def plot_maze(maze):\n",
        "    plt.imshow(maze, cmap='gray')\n",
        "    plt.axis('off')\n",
        "    plt.show()\n",
        "\n",
        "# Initial maze configuration\n",
        "maze = np.zeros((10, 10))\n",
        "\n",
        "# Define the starting and goal states\n",
        "start_state = (5, 5)\n",
        "goal_state = (8, 8)\n",
        "\n",
        "# Plot the initial maze\n",
        "plot_maze(maze)\n",
        "\n",
        "# First Generation Deformation: State Space Deformation\n",
        "deformed_start_state = deform_state_space(start_state)\n",
        "deformed_goal_state = deform_state_space(goal_state)\n",
        "\n",
        "deformed_maze = np.copy(maze)\n",
        "deformed_maze[deformed_start_state] = 1\n",
        "deformed_maze[deformed_goal_state] = 2\n",
        "\n",
        "# Plot the maze after state space deformation\n",
        "plot_maze(deformed_maze)\n",
        "\n",
        "# Second Generation Deformation: Action Space Deformation\n",
        "deformed_action = \"Right\"\n",
        "\n",
        "deformed_maze[deformed_start_state] = 3  # Mark the new action\n",
        "plot_maze(deformed_maze)\n",
        "\n",
        "# Third Generation Deformation: Reward Deformation\n",
        "deformed_reward = 10\n",
        "\n",
        "deformed_maze[deformed_goal_state] = deformed_reward  # Assign the deformed reward to the goal state\n",
        "plot_maze(deformed_maze)\n",
        "\n",
        "# Fourth Generation Deformation: Task Deformation\n",
        "deformed_goal_state = (2, 2)\n",
        "\n",
        "deformed_maze[deformed_goal_state] = 2  # Update the goal state\n",
        "plot_maze(deformed_maze)\n"
      ],
      "metadata": {
        "colab": {
          "base_uri": "https://localhost:8080/",
          "height": 1000
        },
        "id": "44igD_aouOVr",
        "outputId": "289486f9-d2bb-4fe4-dcb3-9aded88b20dc"
      },
      "execution_count": 12,
      "outputs": [
        {
          "output_type": "display_data",
          "data": {
            "text/plain": [
              "<Figure size 640x480 with 1 Axes>"
            ],
            "image/png": "[encoded data removed]"
          },
          "metadata": {}
        },
        {
          "output_type": "display_data",
          "data": {
            "text/plain": [
              "<Figure size 640x480 with 1 Axes>"
            ],
            "image/png": "[encoded data removed]"
          },
          "metadata": {}
        },
        {
          "output_type": "display_data",
          "data": {
            "text/plain": [
              "<Figure size 640x480 with 1 Axes>"
            ],
            "image/png": "[encoded data removed]"
          },
          "metadata": {}
        },
        {
          "output_type": "display_data",
          "data": {
            "text/plain": [
              "<Figure size 640x480 with 1 Axes>"
            ],
            "image/png": "[encoded data removed]"
          },
          "metadata": {}
        },
        {
          "output_type": "display_data",
          "data": {
            "text/plain": [
              "<Figure size 640x480 with 1 Axes>"
            ],
            "image/png": "[encoded data removed]"
          },
          "metadata": {}
        }
      ]
    },
    {
      "cell_type": "code",
      "source": [],
      "metadata": {
        "id": "MIlivdB7uO_y"
      },
      "execution_count": null,
      "outputs": []
    }
  ]
}